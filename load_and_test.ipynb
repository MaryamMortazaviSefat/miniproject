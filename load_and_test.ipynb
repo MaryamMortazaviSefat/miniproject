{
  "nbformat": 4,
  "nbformat_minor": 0,
  "metadata": {
    "colab": {
      "provenance": [],
      "gpuType": "T4"
    },
    "kernelspec": {
      "name": "python3",
      "display_name": "Python 3"
    },
    "language_info": {
      "name": "python"
    },
    "accelerator": "GPU"
  },
  "cells": [
    {
      "cell_type": "code",
      "source": [
        "import os\n",
        "import librosa\n",
        "import numpy as np\n",
        "import torch\n",
        "import torch.nn as nn\n",
        "from torch.utils.data import DataLoader, Dataset\n",
        "from torchvision.transforms import ToTensor\n",
        "from pydub import AudioSegment\n",
        "import pandas as pd\n",
        "from sklearn.metrics import classification_report, confusion_matrix"
      ],
      "metadata": {
        "id": "UtxPe1QgugC5"
      },
      "execution_count": 54,
      "outputs": []
    },
    {
      "cell_type": "code",
      "source": [
        "TEST_DIR = '/content/drive/MyDrive/all_splited_obf'\n",
        "MODEL_PATH = '/content/drive/MyDrive/best_model.pth'\n",
        "CLASSES = [\"0\", \"1\", \"2\", \"3\", \"4\", \"5\", \"6\", \"7\", \"8\", \"9\", \"10\"]"
      ],
      "metadata": {
        "id": "WsDab7MPz6DQ"
      },
      "execution_count": 84,
      "outputs": []
    },
    {
      "cell_type": "code",
      "source": [
        "def convert_to_wav(file_path):\n",
        "    if file_path.lower().endswith(\".mp3\"):\n",
        "        wav_path = file_path.rsplit(\".\", 1)[0] + \".wav\"\n",
        "        audio = AudioSegment.from_mp3(file_path)\n",
        "        audio.export(wav_path, format=\"wav\")\n",
        "        return wav_path\n",
        "    return file_path"
      ],
      "metadata": {
        "id": "W7AoaV085qUL"
      },
      "execution_count": 85,
      "outputs": []
    },
    {
      "cell_type": "code",
      "source": [
        "def audio_to_melspectrogram(file_path, max_len=128, augment=False):\n",
        "    audio, sr = librosa.load(file_path, sr=16000)\n",
        "\n",
        "    # اعمال Data Augmentation (افزودن نویز و تغییر سرعت)\n",
        "    if augment:\n",
        "        noise = np.random.randn(len(audio))\n",
        "        audio = audio + 0.005 * noise\n",
        "        audio = librosa.effects.time_stretch(audio, rate=1.1)  # تغییر سرعت\n",
        "\n",
        "    mel_spec = librosa.feature.melspectrogram(y=audio, sr=sr, n_mels=128)\n",
        "    log_mel_spec = librosa.power_to_db(mel_spec, ref=np.max)\n",
        "\n",
        "    if log_mel_spec.shape[1] > max_len:\n",
        "        log_mel_spec = log_mel_spec[:, :max_len]\n",
        "    else:\n",
        "        log_mel_spec = np.pad(log_mel_spec, ((0, 0), (0, max_len - log_mel_spec.shape[1])), mode='constant')\n",
        "\n",
        "    return log_mel_spec\n"
      ],
      "metadata": {
        "id": "BwwQgynA5sRD"
      },
      "execution_count": 86,
      "outputs": []
    },
    {
      "cell_type": "code",
      "source": [
        "class TestDataset(Dataset):\n",
        "    def __init__(self, data_dir, max_len=128, augment=False, transform=None):\n",
        "        self.file_paths = [os.path.join(data_dir, f) for f in os.listdir(data_dir) if f.endswith(\".mp3\")]\n",
        "        self.max_len = max_len\n",
        "        self.augment = augment\n",
        "        self.transform = transform\n",
        "\n",
        "    def __len__(self):\n",
        "        return len(self.file_paths)\n",
        "\n",
        "    def __getitem__(self, idx):\n",
        "        file_path = self.file_paths[idx]\n",
        "        wav_path = convert_to_wav(file_path)\n",
        "        mel_spec = audio_to_melspectrogram(wav_path, max_len=self.max_len, augment=self.augment)\n",
        "\n",
        "        if self.transform:\n",
        "            mel_spec = self.transform(mel_spec)\n",
        "\n",
        "        return mel_spec, os.path.basename(file_path)"
      ],
      "metadata": {
        "id": "FWq1SHGD5up5"
      },
      "execution_count": 87,
      "outputs": []
    },
    {
      "cell_type": "code",
      "source": [
        "test_dataset = TestDataset(TEST_DIR, augment=True, transform=ToTensor())\n",
        "test_loader = DataLoader(test_dataset, batch_size=16, shuffle=False)"
      ],
      "metadata": {
        "id": "jJJJzt2P51DC"
      },
      "execution_count": 88,
      "outputs": []
    },
    {
      "cell_type": "code",
      "source": [
        "class AudioClassifier(nn.Module):\n",
        "    def __init__(self, num_classes):\n",
        "        super(AudioClassifier, self).__init__()\n",
        "        self.conv1 = nn.Conv2d(1, 16, kernel_size=3, stride=1, padding=1)\n",
        "        self.conv2 = nn.Conv2d(16, 32, kernel_size=3, stride=1, padding=1)\n",
        "        self.conv3 = nn.Conv2d(32, 64, kernel_size=3, stride=1, padding=1)\n",
        "        self.pool = nn.MaxPool2d(kernel_size=2, stride=2)\n",
        "        self.fc1 = nn.Linear(64 * 16 * 16, 256)\n",
        "        self.fc2 = nn.Linear(256, num_classes)\n",
        "        self.dropout = nn.Dropout(0.3)\n",
        "        self.relu = nn.ReLU()\n",
        "\n",
        "    def forward(self, x):\n",
        "        x = self.relu(self.conv1(x))\n",
        "        x = self.pool(x)\n",
        "        x = self.relu(self.conv2(x))\n",
        "        x = self.pool(x)\n",
        "        x = self.relu(self.conv3(x))\n",
        "        x = self.pool(x)\n",
        "        x = x.view(x.size(0), -1)\n",
        "        x = self.dropout(self.relu(self.fc1(x)))\n",
        "        x = self.fc2(x)\n",
        "        return x"
      ],
      "metadata": {
        "id": "BeU5XazM53ig"
      },
      "execution_count": 89,
      "outputs": []
    },
    {
      "cell_type": "code",
      "source": [
        "device = torch.device(\"cuda\" if torch.cuda.is_available() else \"cpu\")\n",
        "model = AudioClassifier(num_classes=len(CLASSES)).to(device)\n",
        "model.load_state_dict(torch.load(MODEL_PATH))\n",
        "model.eval()"
      ],
      "metadata": {
        "colab": {
          "base_uri": "https://localhost:8080/"
        },
        "id": "MyoNQWD857gA",
        "outputId": "331b0e19-a756-48ac-94f8-3ef0fe577d91"
      },
      "execution_count": 90,
      "outputs": [
        {
          "output_type": "stream",
          "name": "stderr",
          "text": [
            "<ipython-input-90-1f9aecafc535>:3: FutureWarning: You are using `torch.load` with `weights_only=False` (the current default value), which uses the default pickle module implicitly. It is possible to construct malicious pickle data which will execute arbitrary code during unpickling (See https://github.com/pytorch/pytorch/blob/main/SECURITY.md#untrusted-models for more details). In a future release, the default value for `weights_only` will be flipped to `True`. This limits the functions that could be executed during unpickling. Arbitrary objects will no longer be allowed to be loaded via this mode unless they are explicitly allowlisted by the user via `torch.serialization.add_safe_globals`. We recommend you start setting `weights_only=True` for any use case where you don't have full control of the loaded file. Please open an issue on GitHub for any issues related to this experimental feature.\n",
            "  model.load_state_dict(torch.load(MODEL_PATH))\n"
          ]
        },
        {
          "output_type": "execute_result",
          "data": {
            "text/plain": [
              "AudioClassifier(\n",
              "  (conv1): Conv2d(1, 16, kernel_size=(3, 3), stride=(1, 1), padding=(1, 1))\n",
              "  (conv2): Conv2d(16, 32, kernel_size=(3, 3), stride=(1, 1), padding=(1, 1))\n",
              "  (conv3): Conv2d(32, 64, kernel_size=(3, 3), stride=(1, 1), padding=(1, 1))\n",
              "  (pool): MaxPool2d(kernel_size=2, stride=2, padding=0, dilation=1, ceil_mode=False)\n",
              "  (fc1): Linear(in_features=16384, out_features=256, bias=True)\n",
              "  (fc2): Linear(in_features=256, out_features=11, bias=True)\n",
              "  (dropout): Dropout(p=0.3, inplace=False)\n",
              "  (relu): ReLU()\n",
              ")"
            ]
          },
          "metadata": {},
          "execution_count": 90
        }
      ]
    },
    {
      "cell_type": "code",
      "source": [
        "predictions = []\n",
        "file_names = []"
      ],
      "metadata": {
        "id": "W6iBAbUb59f_"
      },
      "execution_count": 91,
      "outputs": []
    },
    {
      "cell_type": "code",
      "source": [
        "with torch.no_grad():\n",
        "    for data, files in test_loader:\n",
        "        data = data.to(device).unsqueeze(1).squeeze(2).float()\n",
        "        outputs = model(data)\n",
        "\n",
        "        probabilities = torch.softmax(outputs, dim=1)\n",
        "        _, predicted = probabilities.max(1)\n",
        "\n",
        "        threshold = 0.5\n",
        "        predicted[probabilities.max(1)[0] < threshold] = 10\n",
        "\n",
        "        predictions.extend(predicted.cpu().numpy())\n",
        "        file_names.extend(files)\n"
      ],
      "metadata": {
        "id": "OWhhuBtb6CAz"
      },
      "execution_count": 92,
      "outputs": []
    },
    {
      "cell_type": "code",
      "source": [
        "output_df = pd.DataFrame({\n",
        "    0: file_names,\n",
        "    1: [CLASSES[pred] for pred in predictions]\n",
        "})\n",
        "output_df.to_csv(\"all_splited_obf_output_2.csv\", index=False, header=False)"
      ],
      "metadata": {
        "id": "48XAzsGH7k4R"
      },
      "execution_count": 93,
      "outputs": []
    },
    {
      "cell_type": "code",
      "source": [],
      "metadata": {
        "id": "UYhmAE_J8MdZ"
      },
      "execution_count": 93,
      "outputs": []
    }
  ]
}