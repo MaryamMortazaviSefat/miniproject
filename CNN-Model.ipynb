{
  "cells": [
    {
      "cell_type": "code",
      "execution_count": 3,
      "metadata": {
        "colab": {
          "base_uri": "https://localhost:8080/"
        },
        "id": "Wbe0kDttE2MQ",
        "outputId": "f6821a3a-a0be-4907-e4e3-8465e8101650"
      },
      "outputs": [
        {
          "name": "stdout",
          "output_type": "stream",
          "text": [
            "Collecting pydub\n",
            "  Downloading pydub-0.25.1-py2.py3-none-any.whl.metadata (1.4 kB)\n",
            "Downloading pydub-0.25.1-py2.py3-none-any.whl (32 kB)\n",
            "Installing collected packages: pydub\n",
            "Successfully installed pydub-0.25.1\n"
          ]
        }
      ],
      "source": [
        "!pip install pydub"
      ]
    },
    {
      "cell_type": "code",
      "execution_count": 4,
      "metadata": {
        "id": "DhlQg9z-C2kP"
      },
      "outputs": [],
      "source": [
        "import os\n",
        "import librosa\n",
        "import numpy as np\n",
        "import torch\n",
        "import torch.nn as nn\n",
        "import torch.optim as optim\n",
        "from torch.utils.data import DataLoader, Dataset\n",
        "from torchvision.transforms import ToTensor\n",
        "from pydub import AudioSegment\n",
        "import pandas as pd\n",
        "from sklearn.metrics import classification_report"
      ]
    },
    {
      "cell_type": "code",
      "execution_count": 5,
      "metadata": {
        "id": "bdQjk9yCEvb4"
      },
      "outputs": [],
      "source": [
        "TRAIN_DIR = '/content/drive/MyDrive/train'\n",
        "TEST_DIR = '/content/drive/MyDrive/test'"
      ]
    },
    {
      "cell_type": "code",
      "execution_count": 6,
      "metadata": {
        "colab": {
          "base_uri": "https://localhost:8080/"
        },
        "id": "PGn7qaOQFPxU",
        "outputId": "e6684a04-1a4c-4b27-c4e0-6804873a40c8"
      },
      "outputs": [
        {
          "name": "stdout",
          "output_type": "stream",
          "text": [
            "Classes and Labels:\n",
            "Class: 0, Label: 0\n",
            "Class: 1, Label: 1\n",
            "Class: 2, Label: 2\n",
            "Class: 3, Label: 3\n",
            "Class: 4, Label: 4\n",
            "Class: 5, Label: 5\n",
            "Class: 6, Label: 6\n",
            "Class: 7, Label: 7\n",
            "Class: 8, Label: 8\n",
            "Class: 9, Label: 9\n",
            "Class: none, Label: 10\n"
          ]
        }
      ],
      "source": [
        "CLASSES = sorted([cls for cls in os.listdir(TRAIN_DIR) if os.path.isdir(os.path.join(TRAIN_DIR, cls))])\n",
        "print(\"Classes and Labels:\")\n",
        "for idx, class_name in enumerate(CLASSES):\n",
        "    print(f\"Class: {class_name}, Label: {idx}\")"
      ]
    },
    {
      "cell_type": "code",
      "execution_count": 7,
      "metadata": {
        "id": "3He9Gm_UFSr4"
      },
      "outputs": [],
      "source": [
        "def audio_to_melspectrogram(file_path, max_len=128):\n",
        "    audio, sr = librosa.load(file_path, sr=16000)\n",
        "    mel_spec = librosa.feature.melspectrogram(y=audio, sr=sr, n_mels=128)\n",
        "    log_mel_spec = librosa.power_to_db(mel_spec, ref=np.max)\n",
        "\n",
        "    if log_mel_spec.shape[1] > max_len:\n",
        "        log_mel_spec = log_mel_spec[:, :max_len]\n",
        "    else:\n",
        "        log_mel_spec = np.pad(log_mel_spec, ((0, 0), (0, max_len - log_mel_spec.shape[1])), mode='constant')\n",
        "\n",
        "    return log_mel_spec"
      ]
    },
    {
      "cell_type": "code",
      "execution_count": 8,
      "metadata": {
        "id": "vRGyCjRsFeb4"
      },
      "outputs": [],
      "source": [
        "def convert_to_wav(file_path):\n",
        "    if file_path.lower().endswith(\".mp3\"):\n",
        "        wav_path = file_path.rsplit(\".\", 1)[0] + \".wav\"\n",
        "        audio = AudioSegment.from_mp3(file_path)\n",
        "        audio.export(wav_path, format=\"wav\")\n",
        "        print(f\"Converted {file_path} to {wav_path}\")\n",
        "        return wav_path\n",
        "    return file_path"
      ]
    },
    {
      "cell_type": "code",
      "execution_count": 9,
      "metadata": {
        "id": "XBRHozNPFgUA"
      },
      "outputs": [],
      "source": [
        "class AudioDataset(Dataset):\n",
        "    def __init__(self, data_dir, classes, max_len=128, transform=None):\n",
        "        self.file_paths = []\n",
        "        self.labels = []\n",
        "        self.max_len = max_len\n",
        "        self.transform = transform\n",
        "        self.classes = classes\n",
        "\n",
        "        for label, class_name in enumerate(classes):\n",
        "            class_dir = os.path.join(data_dir, class_name)\n",
        "            for file_name in os.listdir(class_dir):\n",
        "                file_path = os.path.join(class_dir, file_name)\n",
        "                file_path = convert_to_wav(file_path)  # بررسی و تبدیل mp3 به wav\n",
        "                self.file_paths.append(file_path)\n",
        "                self.labels.append(label)\n",
        "\n",
        "    def __len__(self):\n",
        "        return len(self.file_paths)\n",
        "\n",
        "    def __getitem__(self, idx):\n",
        "        file_path = self.file_paths[idx]\n",
        "        label = self.labels[idx]\n",
        "        mel_spec = audio_to_melspectrogram(file_path, max_len=self.max_len)\n",
        "\n",
        "        if self.transform:\n",
        "            mel_spec = self.transform(mel_spec)\n",
        "\n",
        "        return mel_spec, label, os.path.basename(file_path)"
      ]
    },
    {
      "cell_type": "code",
      "execution_count": 10,
      "metadata": {
        "id": "pW1EWlYCFnH7"
      },
      "outputs": [],
      "source": [
        "train_dataset = AudioDataset(TRAIN_DIR, CLASSES, transform=ToTensor())\n",
        "test_dataset = AudioDataset(TEST_DIR, CLASSES, transform=ToTensor())\n",
        "\n",
        "train_loader = DataLoader(train_dataset, batch_size=16, shuffle=True)\n",
        "test_loader = DataLoader(test_dataset, batch_size=16, shuffle=False)"
      ]
    },
    {
      "cell_type": "code",
      "execution_count": 11,
      "metadata": {
        "id": "sm1lToo-Fo7V"
      },
      "outputs": [],
      "source": [
        "class AudioClassifier(nn.Module):\n",
        "    def __init__(self, num_classes):\n",
        "        super(AudioClassifier, self).__init__()\n",
        "        self.conv1 = nn.Conv2d(1, 16, kernel_size=3, stride=1, padding=1)\n",
        "        self.conv2 = nn.Conv2d(16, 32, kernel_size=3, stride=1, padding=1)\n",
        "        self.conv3 = nn.Conv2d(32, 64, kernel_size=3, stride=1, padding=1)\n",
        "        self.pool = nn.MaxPool2d(kernel_size=2, stride=2)\n",
        "        self.fc1 = nn.Linear(64 * 16 * 16, 256)\n",
        "        self.fc2 = nn.Linear(256, num_classes)\n",
        "        self.dropout = nn.Dropout(0.3)\n",
        "        self.relu = nn.ReLU()\n",
        "\n",
        "    def forward(self, x):\n",
        "        x = self.relu(self.conv1(x))\n",
        "        x = self.pool(x)\n",
        "        x = self.relu(self.conv2(x))\n",
        "        x = self.pool(x)\n",
        "        x = self.relu(self.conv3(x))\n",
        "        x = self.pool(x)\n",
        "        x = x.view(x.size(0), -1)  # Flatten\n",
        "        x = self.dropout(self.relu(self.fc1(x)))\n",
        "        x = self.fc2(x)\n",
        "        return x"
      ]
    },
    {
      "cell_type": "code",
      "execution_count": 12,
      "metadata": {
        "id": "oJnXCndFFsq_"
      },
      "outputs": [],
      "source": [
        "device = torch.device(\"cuda\" if torch.cuda.is_available() else \"cpu\")\n",
        "model = AudioClassifier(num_classes=len(CLASSES)).to(device)\n",
        "criterion = nn.CrossEntropyLoss()\n",
        "optimizer = optim.Adam(model.parameters(), lr=1e-4)"
      ]
    },
    {
      "cell_type": "code",
      "execution_count": 15,
      "metadata": {
        "colab": {
          "base_uri": "https://localhost:8080/"
        },
        "id": "EF6hY-IDFvbs",
        "outputId": "41cb0ee4-a7d4-4077-8e40-5c9bb49f4d07"
      },
      "outputs": [
        {
          "name": "stdout",
          "output_type": "stream",
          "text": [
            "Epoch 1/40\n"
          ]
        },
        {
          "name": "stderr",
          "output_type": "stream",
          "text": [
            "Training: 100%|██████████| 677/677 [02:39<00:00,  4.24batch/s, Loss=1.69, Accuracy=37.9]\n"
          ]
        },
        {
          "name": "stdout",
          "output_type": "stream",
          "text": [
            "Epoch 1/40 Completed, Loss: 1.6986, Accuracy: 37.88%\n",
            "New Best Model Saved with Accuracy: 37.88%\n",
            "Epoch 2/40\n"
          ]
        },
        {
          "name": "stderr",
          "output_type": "stream",
          "text": [
            "Training: 100%|██████████| 677/677 [02:28<00:00,  4.55batch/s, Loss=1.58, Accuracy=42]\n"
          ]
        },
        {
          "name": "stdout",
          "output_type": "stream",
          "text": [
            "Epoch 2/40 Completed, Loss: 1.5997, Accuracy: 41.97%\n",
            "New Best Model Saved with Accuracy: 41.97%\n",
            "Epoch 3/40\n"
          ]
        },
        {
          "name": "stderr",
          "output_type": "stream",
          "text": [
            "Training: 100%|██████████| 677/677 [02:27<00:00,  4.58batch/s, Loss=1.71, Accuracy=45.3]\n"
          ]
        },
        {
          "name": "stdout",
          "output_type": "stream",
          "text": [
            "Epoch 3/40 Completed, Loss: 1.5039, Accuracy: 45.34%\n",
            "New Best Model Saved with Accuracy: 45.34%\n",
            "Epoch 4/40\n"
          ]
        },
        {
          "name": "stderr",
          "output_type": "stream",
          "text": [
            "Training: 100%|██████████| 677/677 [02:24<00:00,  4.68batch/s, Loss=1.19, Accuracy=49.1]\n"
          ]
        },
        {
          "name": "stdout",
          "output_type": "stream",
          "text": [
            "Epoch 4/40 Completed, Loss: 1.4231, Accuracy: 49.12%\n",
            "New Best Model Saved with Accuracy: 49.12%\n",
            "Epoch 5/40\n"
          ]
        },
        {
          "name": "stderr",
          "output_type": "stream",
          "text": [
            "Training: 100%|██████████| 677/677 [02:25<00:00,  4.64batch/s, Loss=1.24, Accuracy=52.3]\n"
          ]
        },
        {
          "name": "stdout",
          "output_type": "stream",
          "text": [
            "Epoch 5/40 Completed, Loss: 1.3315, Accuracy: 52.27%\n",
            "New Best Model Saved with Accuracy: 52.27%\n",
            "Epoch 6/40\n"
          ]
        },
        {
          "name": "stderr",
          "output_type": "stream",
          "text": [
            "Training: 100%|██████████| 677/677 [02:25<00:00,  4.66batch/s, Loss=1.3, Accuracy=55]\n"
          ]
        },
        {
          "name": "stdout",
          "output_type": "stream",
          "text": [
            "Epoch 6/40 Completed, Loss: 1.2448, Accuracy: 55.03%\n",
            "New Best Model Saved with Accuracy: 55.03%\n",
            "Epoch 7/40\n"
          ]
        },
        {
          "name": "stderr",
          "output_type": "stream",
          "text": [
            "Training: 100%|██████████| 677/677 [02:25<00:00,  4.64batch/s, Loss=1.16, Accuracy=58.3]\n"
          ]
        },
        {
          "name": "stdout",
          "output_type": "stream",
          "text": [
            "Epoch 7/40 Completed, Loss: 1.1591, Accuracy: 58.27%\n",
            "New Best Model Saved with Accuracy: 58.27%\n",
            "Epoch 8/40\n"
          ]
        },
        {
          "name": "stderr",
          "output_type": "stream",
          "text": [
            "Training: 100%|██████████| 677/677 [02:25<00:00,  4.65batch/s, Loss=0.705, Accuracy=61.3]\n"
          ]
        },
        {
          "name": "stdout",
          "output_type": "stream",
          "text": [
            "Epoch 8/40 Completed, Loss: 1.0707, Accuracy: 61.31%\n",
            "New Best Model Saved with Accuracy: 61.31%\n",
            "Epoch 9/40\n"
          ]
        },
        {
          "name": "stderr",
          "output_type": "stream",
          "text": [
            "Training: 100%|██████████| 677/677 [02:24<00:00,  4.68batch/s, Loss=0.992, Accuracy=64.8]\n"
          ]
        },
        {
          "name": "stdout",
          "output_type": "stream",
          "text": [
            "Epoch 9/40 Completed, Loss: 0.9950, Accuracy: 64.78%\n",
            "New Best Model Saved with Accuracy: 64.78%\n",
            "Epoch 10/40\n"
          ]
        },
        {
          "name": "stderr",
          "output_type": "stream",
          "text": [
            "Training: 100%|██████████| 677/677 [02:27<00:00,  4.58batch/s, Loss=0.762, Accuracy=66.9]\n"
          ]
        },
        {
          "name": "stdout",
          "output_type": "stream",
          "text": [
            "Epoch 10/40 Completed, Loss: 0.9112, Accuracy: 66.87%\n",
            "New Best Model Saved with Accuracy: 66.87%\n",
            "Epoch 11/40\n"
          ]
        },
        {
          "name": "stderr",
          "output_type": "stream",
          "text": [
            "Training: 100%|██████████| 677/677 [02:31<00:00,  4.46batch/s, Loss=1.17, Accuracy=70.9]\n"
          ]
        },
        {
          "name": "stdout",
          "output_type": "stream",
          "text": [
            "Epoch 11/40 Completed, Loss: 0.8251, Accuracy: 70.86%\n",
            "New Best Model Saved with Accuracy: 70.86%\n",
            "Epoch 12/40\n"
          ]
        },
        {
          "name": "stderr",
          "output_type": "stream",
          "text": [
            "Training: 100%|██████████| 677/677 [02:36<00:00,  4.32batch/s, Loss=0.489, Accuracy=72.9]\n"
          ]
        },
        {
          "name": "stdout",
          "output_type": "stream",
          "text": [
            "Epoch 12/40 Completed, Loss: 0.7594, Accuracy: 72.90%\n",
            "New Best Model Saved with Accuracy: 72.90%\n",
            "Epoch 13/40\n"
          ]
        },
        {
          "name": "stderr",
          "output_type": "stream",
          "text": [
            "Training: 100%|██████████| 677/677 [02:29<00:00,  4.53batch/s, Loss=0.392, Accuracy=76]\n"
          ]
        },
        {
          "name": "stdout",
          "output_type": "stream",
          "text": [
            "Epoch 13/40 Completed, Loss: 0.6925, Accuracy: 75.99%\n",
            "New Best Model Saved with Accuracy: 75.99%\n",
            "Epoch 14/40\n"
          ]
        },
        {
          "name": "stderr",
          "output_type": "stream",
          "text": [
            "Training: 100%|██████████| 677/677 [02:30<00:00,  4.49batch/s, Loss=0.959, Accuracy=77.8]\n"
          ]
        },
        {
          "name": "stdout",
          "output_type": "stream",
          "text": [
            "Epoch 14/40 Completed, Loss: 0.6436, Accuracy: 77.81%\n",
            "New Best Model Saved with Accuracy: 77.81%\n",
            "Epoch 15/40\n"
          ]
        },
        {
          "name": "stderr",
          "output_type": "stream",
          "text": [
            "Training: 100%|██████████| 677/677 [02:32<00:00,  4.44batch/s, Loss=0.276, Accuracy=80.2]\n"
          ]
        },
        {
          "name": "stdout",
          "output_type": "stream",
          "text": [
            "Epoch 15/40 Completed, Loss: 0.5677, Accuracy: 80.18%\n",
            "New Best Model Saved with Accuracy: 80.18%\n",
            "Epoch 16/40\n"
          ]
        },
        {
          "name": "stderr",
          "output_type": "stream",
          "text": [
            "Training: 100%|██████████| 677/677 [02:33<00:00,  4.40batch/s, Loss=0.418, Accuracy=81.5]\n"
          ]
        },
        {
          "name": "stdout",
          "output_type": "stream",
          "text": [
            "Epoch 16/40 Completed, Loss: 0.5283, Accuracy: 81.53%\n",
            "New Best Model Saved with Accuracy: 81.53%\n",
            "Epoch 17/40\n"
          ]
        },
        {
          "name": "stderr",
          "output_type": "stream",
          "text": [
            "Training: 100%|██████████| 677/677 [02:26<00:00,  4.63batch/s, Loss=0.411, Accuracy=83.5]\n"
          ]
        },
        {
          "name": "stdout",
          "output_type": "stream",
          "text": [
            "Epoch 17/40 Completed, Loss: 0.4779, Accuracy: 83.48%\n",
            "New Best Model Saved with Accuracy: 83.48%\n",
            "Epoch 18/40\n"
          ]
        },
        {
          "name": "stderr",
          "output_type": "stream",
          "text": [
            "Training: 100%|██████████| 677/677 [02:26<00:00,  4.62batch/s, Loss=0.792, Accuracy=84.9]\n"
          ]
        },
        {
          "name": "stdout",
          "output_type": "stream",
          "text": [
            "Epoch 18/40 Completed, Loss: 0.4369, Accuracy: 84.92%\n",
            "New Best Model Saved with Accuracy: 84.92%\n",
            "Epoch 19/40\n"
          ]
        },
        {
          "name": "stderr",
          "output_type": "stream",
          "text": [
            "Training: 100%|██████████| 677/677 [02:26<00:00,  4.61batch/s, Loss=0.149, Accuracy=86.1]\n"
          ]
        },
        {
          "name": "stdout",
          "output_type": "stream",
          "text": [
            "Epoch 19/40 Completed, Loss: 0.4071, Accuracy: 86.10%\n",
            "New Best Model Saved with Accuracy: 86.10%\n",
            "Epoch 20/40\n"
          ]
        },
        {
          "name": "stderr",
          "output_type": "stream",
          "text": [
            "Training: 100%|██████████| 677/677 [02:27<00:00,  4.58batch/s, Loss=0.55, Accuracy=88.2]\n"
          ]
        },
        {
          "name": "stdout",
          "output_type": "stream",
          "text": [
            "Epoch 20/40 Completed, Loss: 0.3557, Accuracy: 88.19%\n",
            "New Best Model Saved with Accuracy: 88.19%\n",
            "Epoch 21/40\n"
          ]
        },
        {
          "name": "stderr",
          "output_type": "stream",
          "text": [
            "Training: 100%|██████████| 677/677 [02:27<00:00,  4.58batch/s, Loss=0.679, Accuracy=88.6]\n"
          ]
        },
        {
          "name": "stdout",
          "output_type": "stream",
          "text": [
            "Epoch 21/40 Completed, Loss: 0.3404, Accuracy: 88.55%\n",
            "New Best Model Saved with Accuracy: 88.55%\n",
            "Epoch 22/40\n"
          ]
        },
        {
          "name": "stderr",
          "output_type": "stream",
          "text": [
            "Training: 100%|██████████| 677/677 [02:23<00:00,  4.73batch/s, Loss=0.112, Accuracy=89]\n"
          ]
        },
        {
          "name": "stdout",
          "output_type": "stream",
          "text": [
            "Epoch 22/40 Completed, Loss: 0.3227, Accuracy: 89.04%\n",
            "New Best Model Saved with Accuracy: 89.04%\n",
            "Epoch 23/40\n"
          ]
        },
        {
          "name": "stderr",
          "output_type": "stream",
          "text": [
            "Training: 100%|██████████| 677/677 [02:23<00:00,  4.71batch/s, Loss=0.414, Accuracy=90.1]\n"
          ]
        },
        {
          "name": "stdout",
          "output_type": "stream",
          "text": [
            "Epoch 23/40 Completed, Loss: 0.2934, Accuracy: 90.12%\n",
            "New Best Model Saved with Accuracy: 90.12%\n",
            "Epoch 24/40\n"
          ]
        },
        {
          "name": "stderr",
          "output_type": "stream",
          "text": [
            "Training: 100%|██████████| 677/677 [02:26<00:00,  4.61batch/s, Loss=0.0633, Accuracy=90.8]\n"
          ]
        },
        {
          "name": "stdout",
          "output_type": "stream",
          "text": [
            "Epoch 24/40 Completed, Loss: 0.2704, Accuracy: 90.84%\n",
            "New Best Model Saved with Accuracy: 90.84%\n",
            "Epoch 25/40\n"
          ]
        },
        {
          "name": "stderr",
          "output_type": "stream",
          "text": [
            "Training: 100%|██████████| 677/677 [02:26<00:00,  4.63batch/s, Loss=0.205, Accuracy=90.7]\n"
          ]
        },
        {
          "name": "stdout",
          "output_type": "stream",
          "text": [
            "Epoch 25/40 Completed, Loss: 0.2727, Accuracy: 90.73%\n",
            "Epoch 26/40\n"
          ]
        },
        {
          "name": "stderr",
          "output_type": "stream",
          "text": [
            "Training: 100%|██████████| 677/677 [02:22<00:00,  4.75batch/s, Loss=0.0239, Accuracy=92.1]\n"
          ]
        },
        {
          "name": "stdout",
          "output_type": "stream",
          "text": [
            "Epoch 26/40 Completed, Loss: 0.2399, Accuracy: 92.11%\n",
            "New Best Model Saved with Accuracy: 92.11%\n",
            "Epoch 27/40\n"
          ]
        },
        {
          "name": "stderr",
          "output_type": "stream",
          "text": [
            "Training: 100%|██████████| 677/677 [02:23<00:00,  4.70batch/s, Loss=0.215, Accuracy=93]\n"
          ]
        },
        {
          "name": "stdout",
          "output_type": "stream",
          "text": [
            "Epoch 27/40 Completed, Loss: 0.2176, Accuracy: 93.03%\n",
            "New Best Model Saved with Accuracy: 93.03%\n",
            "Epoch 28/40\n"
          ]
        },
        {
          "name": "stderr",
          "output_type": "stream",
          "text": [
            "Training: 100%|██████████| 677/677 [02:24<00:00,  4.68batch/s, Loss=0.407, Accuracy=92.9]\n"
          ]
        },
        {
          "name": "stdout",
          "output_type": "stream",
          "text": [
            "Epoch 28/40 Completed, Loss: 0.2122, Accuracy: 92.88%\n",
            "Epoch 29/40\n"
          ]
        },
        {
          "name": "stderr",
          "output_type": "stream",
          "text": [
            "Training: 100%|██████████| 677/677 [02:25<00:00,  4.66batch/s, Loss=0.929, Accuracy=93.6]\n"
          ]
        },
        {
          "name": "stdout",
          "output_type": "stream",
          "text": [
            "Epoch 29/40 Completed, Loss: 0.1974, Accuracy: 93.55%\n",
            "New Best Model Saved with Accuracy: 93.55%\n",
            "Epoch 30/40\n"
          ]
        },
        {
          "name": "stderr",
          "output_type": "stream",
          "text": [
            "Training: 100%|██████████| 677/677 [02:27<00:00,  4.60batch/s, Loss=0.14, Accuracy=93.9]\n"
          ]
        },
        {
          "name": "stdout",
          "output_type": "stream",
          "text": [
            "Epoch 30/40 Completed, Loss: 0.1985, Accuracy: 93.87%\n",
            "New Best Model Saved with Accuracy: 93.87%\n",
            "Epoch 31/40\n"
          ]
        },
        {
          "name": "stderr",
          "output_type": "stream",
          "text": [
            "Training: 100%|██████████| 677/677 [02:31<00:00,  4.48batch/s, Loss=0.049, Accuracy=94.2]\n"
          ]
        },
        {
          "name": "stdout",
          "output_type": "stream",
          "text": [
            "Epoch 31/40 Completed, Loss: 0.1842, Accuracy: 94.20%\n",
            "New Best Model Saved with Accuracy: 94.20%\n",
            "Epoch 32/40\n"
          ]
        },
        {
          "name": "stderr",
          "output_type": "stream",
          "text": [
            "Training: 100%|██████████| 677/677 [02:32<00:00,  4.44batch/s, Loss=0.172, Accuracy=94.4]\n"
          ]
        },
        {
          "name": "stdout",
          "output_type": "stream",
          "text": [
            "Epoch 32/40 Completed, Loss: 0.1690, Accuracy: 94.38%\n",
            "New Best Model Saved with Accuracy: 94.38%\n",
            "Epoch 33/40\n"
          ]
        },
        {
          "name": "stderr",
          "output_type": "stream",
          "text": [
            "Training: 100%|██████████| 677/677 [02:33<00:00,  4.42batch/s, Loss=0.153, Accuracy=94.8]\n"
          ]
        },
        {
          "name": "stdout",
          "output_type": "stream",
          "text": [
            "Epoch 33/40 Completed, Loss: 0.1636, Accuracy: 94.81%\n",
            "New Best Model Saved with Accuracy: 94.81%\n",
            "Epoch 34/40\n"
          ]
        },
        {
          "name": "stderr",
          "output_type": "stream",
          "text": [
            "Training: 100%|██████████| 677/677 [02:34<00:00,  4.37batch/s, Loss=0.542, Accuracy=94.9]\n"
          ]
        },
        {
          "name": "stdout",
          "output_type": "stream",
          "text": [
            "Epoch 34/40 Completed, Loss: 0.1570, Accuracy: 94.85%\n",
            "New Best Model Saved with Accuracy: 94.85%\n",
            "Epoch 35/40\n"
          ]
        },
        {
          "name": "stderr",
          "output_type": "stream",
          "text": [
            "Training: 100%|██████████| 677/677 [02:34<00:00,  4.39batch/s, Loss=0.247, Accuracy=95.5]\n"
          ]
        },
        {
          "name": "stdout",
          "output_type": "stream",
          "text": [
            "Epoch 35/40 Completed, Loss: 0.1475, Accuracy: 95.49%\n",
            "New Best Model Saved with Accuracy: 95.49%\n",
            "Epoch 36/40\n"
          ]
        },
        {
          "name": "stderr",
          "output_type": "stream",
          "text": [
            "Training: 100%|██████████| 677/677 [02:32<00:00,  4.44batch/s, Loss=0.195, Accuracy=95.1]\n"
          ]
        },
        {
          "name": "stdout",
          "output_type": "stream",
          "text": [
            "Epoch 36/40 Completed, Loss: 0.1471, Accuracy: 95.09%\n",
            "Epoch 37/40\n"
          ]
        },
        {
          "name": "stderr",
          "output_type": "stream",
          "text": [
            "Training: 100%|██████████| 677/677 [02:30<00:00,  4.49batch/s, Loss=0.127, Accuracy=95.9]\n"
          ]
        },
        {
          "name": "stdout",
          "output_type": "stream",
          "text": [
            "Epoch 37/40 Completed, Loss: 0.1298, Accuracy: 95.89%\n",
            "New Best Model Saved with Accuracy: 95.89%\n",
            "Epoch 38/40\n"
          ]
        },
        {
          "name": "stderr",
          "output_type": "stream",
          "text": [
            "Training: 100%|██████████| 677/677 [02:32<00:00,  4.43batch/s, Loss=0.406, Accuracy=95.9]\n"
          ]
        },
        {
          "name": "stdout",
          "output_type": "stream",
          "text": [
            "Epoch 38/40 Completed, Loss: 0.1329, Accuracy: 95.87%\n",
            "Epoch 39/40\n"
          ]
        },
        {
          "name": "stderr",
          "output_type": "stream",
          "text": [
            "Training: 100%|██████████| 677/677 [02:32<00:00,  4.45batch/s, Loss=0.0261, Accuracy=95.6]\n"
          ]
        },
        {
          "name": "stdout",
          "output_type": "stream",
          "text": [
            "Epoch 39/40 Completed, Loss: 0.1293, Accuracy: 95.63%\n",
            "Epoch 40/40\n"
          ]
        },
        {
          "name": "stderr",
          "output_type": "stream",
          "text": [
            "Training: 100%|██████████| 677/677 [02:34<00:00,  4.40batch/s, Loss=0.0542, Accuracy=96.2]"
          ]
        },
        {
          "name": "stdout",
          "output_type": "stream",
          "text": [
            "Epoch 40/40 Completed, Loss: 0.1197, Accuracy: 96.24%\n",
            "New Best Model Saved with Accuracy: 96.24%\n"
          ]
        },
        {
          "name": "stderr",
          "output_type": "stream",
          "text": [
            "\n"
          ]
        }
      ],
      "source": [
        "from tqdm import tqdm\n",
        "\n",
        "best_accuracy = 0.0\n",
        "num_epochs = 40\n",
        "for epoch in range(num_epochs):\n",
        "    model.train()\n",
        "    running_loss = 0.0\n",
        "    correct = 0\n",
        "    total = 0\n",
        "\n",
        "    print(f\"Epoch {epoch + 1}/{num_epochs}\")\n",
        "    progress_bar = tqdm(train_loader, desc=\"Training\", unit=\"batch\")\n",
        "\n",
        "    for mel_specs, labels, _ in progress_bar:\n",
        "        mel_specs = mel_specs.to(device).unsqueeze(1).squeeze(2)\n",
        "        labels = labels.to(device)\n",
        "\n",
        "        outputs = model(mel_specs)\n",
        "        loss = criterion(outputs, labels)\n",
        "\n",
        "        optimizer.zero_grad()\n",
        "        loss.backward()\n",
        "        optimizer.step()\n",
        "\n",
        "        running_loss += loss.item()\n",
        "        _, predicted = outputs.max(1)\n",
        "        total += labels.size(0)\n",
        "        correct += predicted.eq(labels).sum().item()\n",
        "\n",
        "        progress_bar.set_postfix({\"Loss\": loss.item(), \"Accuracy\": 100. * correct / total})\n",
        "\n",
        "    accuracy = 100. * correct / total\n",
        "    print(f\"Epoch {epoch + 1}/{num_epochs} Completed, Loss: {running_loss/len(train_loader):.4f}, Accuracy: {accuracy:.2f}%\")\n",
        "\n",
        "    if accuracy > best_accuracy:\n",
        "        best_accuracy = accuracy\n",
        "        torch.save(model.state_dict(), \"best_model.pth\")\n",
        "        print(f\"New Best Model Saved with Accuracy: {best_accuracy:.2f}%\")\n"
      ]
    },
    {
      "cell_type": "code",
      "execution_count": 16,
      "metadata": {
        "id": "EoWj7SF8Fyzr"
      },
      "outputs": [],
      "source": [
        "model.eval()\n",
        "all_preds = []\n",
        "all_labels = []\n",
        "file_names = []\n",
        "\n",
        "with torch.no_grad():\n",
        "    for mel_specs, labels, files in test_loader:\n",
        "        mel_specs = mel_specs.to(device).unsqueeze(1).squeeze(2)\n",
        "        labels = labels.to(device)\n",
        "\n",
        "        outputs = model(mel_specs)\n",
        "        _, predicted = outputs.max(1)\n",
        "\n",
        "        all_preds.extend(predicted.cpu().numpy())\n",
        "        all_labels.extend(labels.cpu().numpy())\n",
        "        file_names.extend(files)"
      ]
    },
    {
      "cell_type": "code",
      "execution_count": null,
      "metadata": {
        "id": "OiD19-hsILif"
      },
      "outputs": [],
      "source": [
        "output_df = pd.DataFrame({\n",
        "    0: file_names,\n",
        "    1: [CLASSES[pred] for pred in all_preds]})\n",
        "output_df.to_csv(\"model_output.csv\", index=False, header=False)\n"
      ]
    },
    {
      "cell_type": "code",
      "execution_count": 18,
      "metadata": {
        "id": "Kja4qHNIQrl-"
      },
      "outputs": [],
      "source": [
        "torch.save(model.state_dict(), \"audio_classifier.pth\")"
      ]
    },
    {
      "cell_type": "code",
      "execution_count": null,
      "metadata": {
        "id": "hMaczRKJIiXk"
      },
      "outputs": [],
      "source": [
        "torch.save(model.state_dict(), \"best_model.pth\")"
      ]
    },
    {
      "cell_type": "code",
      "execution_count": null,
      "metadata": {
        "id": "hG_TJFW0DUqo"
      },
      "outputs": [],
      "source": []
    },
    {
      "cell_type": "code",
      "execution_count": null,
      "metadata": {
        "id": "8g48I2AqSV2l"
      },
      "outputs": [],
      "source": []
    },
    {
      "cell_type": "code",
      "execution_count": 38,
      "metadata": {
        "id": "SL6PLodWVqk2"
      },
      "outputs": [],
      "source": []
    }
  ],
  "metadata": {
    "accelerator": "GPU",
    "colab": {
      "gpuType": "T4",
      "provenance": []
    },
    "kernelspec": {
      "display_name": "Python 3",
      "name": "python3"
    },
    "language_info": {
      "name": "python"
    }
  },
  "nbformat": 4,
  "nbformat_minor": 0
}
